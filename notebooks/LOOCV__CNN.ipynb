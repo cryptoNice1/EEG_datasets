{
 "cells": [
  {
   "cell_type": "code",
   "execution_count": 27,
   "metadata": {},
   "outputs": [],
   "source": [
    "import numpy as np\n",
    "from tensorflow.keras.models import Sequential\n",
    "from tensorflow.keras.layers import Conv1D, MaxPooling1D, Flatten, Dense\n",
    "from tensorflow.keras.utils import to_categorical\n",
    "import matplotlib.pyplot as plt\n",
    "from sklearn.decomposition import PCA\n",
    "import os\n",
    "import pandas as pd\n",
    "from gettingsegments import extract_segments, plot_signal\n",
    "from sklearn.metrics import confusion_matrix\n",
    "from seaborn import heatmap"
   ]
  },
  {
   "cell_type": "code",
   "execution_count": 28,
   "metadata": {},
   "outputs": [],
   "source": [
    "current_dir = os.getcwd()\n",
    "os.chdir('c:\\\\Users\\\\Melanie\\\\OneDrive - Rensselaer Polytechnic Institute\\\\Desktop\\\\School\\\\24_Spring\\\\MLE\\\\Project\\\\data')\n",
    "\n",
    "electrode_locations = {\"FP1\": 0, \"FP2\": 1, \"FC5\": 2, \"FC6\": 3, \"FZ\": 4,\n",
    "                        \"T7\": 5, \"CZ\": 6, \"T8\": 7, \"P7\": 8, \"P3\": 9, \"PZ\": 10,\n",
    "                          \"P4\": 11, \"P8\": 12, \"O1\": 13, \"Oz\": 14, \"O2\": 15}\n",
    "\n",
    "files = os.listdir()\n",
    "#getting the demographics both gets rid of that column and imports it \n",
    "demographics = pd.read_csv(files.pop(0),names=[\"Isman\",\"Age\",\"Fatigue\"])\n",
    "n = np.shape(demographics)[0]"
   ]
  },
  {
   "cell_type": "code",
   "execution_count": 29,
   "metadata": {},
   "outputs": [],
   "source": [
    "indices = list(range(10))\n",
    "def split_data(i, X, y):\n",
    "    training_set = indices[:i] + indices[i+1:]\n",
    "    X_train, y_train = X[training_set], np.matrix(y[training_set]).T\n",
    "    X_test, y_test = X[i], np.matrix(y[i])\n",
    "    \n",
    "    #reshape X_test to also be a 3D matrix like how X_train is\n",
    "    X_test = X_test.reshape(1, np.shape(X_test)[0], np.shape(X_test)[1])\n",
    "    return X_train, y_train, X_test, y_test"
   ]
  },
  {
   "cell_type": "code",
   "execution_count": 37,
   "metadata": {},
   "outputs": [],
   "source": [
    "def make_model(inputshape):\n",
    "    model = Sequential()\n",
    "    #the layers\n",
    "    kernal_size = 10\n",
    "    model.add(Conv1D(filters=64, #this is the number of filters\n",
    "                    kernel_size=kernal_size,\n",
    "                    #set the activation function\n",
    "                    activation='relu', \n",
    "                    input_shape = inputshape))\n",
    "    model.add(MaxPooling1D(pool_size=2, strides=2))\n",
    "    model.add(Conv1D(filters=16, \n",
    "                    kernel_size=kernal_size,\n",
    "                    activation='relu'))\n",
    "    model.add(MaxPooling1D(pool_size=2, strides=2))\n",
    "    model.add(Conv1D(filters=16, \n",
    "                    kernel_size=kernal_size,\n",
    "                    activation='relu'))\n",
    "    model.add(MaxPooling1D(pool_size=2, strides=2))\n",
    "    model.add(Conv1D(filters=16, \n",
    "                    kernel_size=kernal_size,\n",
    "                    activation='relu'))\n",
    "    model.add(MaxPooling1D(pool_size=2, strides=2))\n",
    "    model.add(Conv1D(filters=16, \n",
    "                    kernel_size=kernal_size,\n",
    "                    activation='relu'))\n",
    "    model.add(MaxPooling1D(pool_size=2, strides=2))\n",
    "    model.add(Conv1D(filters=16, \n",
    "                    kernel_size=kernal_size,\n",
    "                    activation='relu'))\n",
    "    model.add(MaxPooling1D(pool_size=2, strides=2))\n",
    "    model.add(Conv1D(filters=16, \n",
    "                    kernel_size=kernal_size,\n",
    "                    activation='relu'))\n",
    "    model.add(MaxPooling1D(pool_size=2, strides=2))\n",
    "    model.add(Conv1D(filters=16, \n",
    "                    kernel_size=kernal_size,\n",
    "                    activation='relu'))\n",
    "\n",
    "    #flatten out and make the rest of it\n",
    "    model.add(Flatten())\n",
    "    model.add(Dense(256, #number of units\n",
    "                    activation='relu'))\n",
    "    model.add(Dense(128, #number of units\n",
    "                    activation='relu'))\n",
    "    model.add(Dense(64, #number of units\n",
    "                    activation='relu'))\n",
    "    model.add(Dense(1, #64 neurons\n",
    "                    activation='sigmoid')) #maybe u can try tanh\n",
    "    #compiler\n",
    "    model.compile(optimizer='adam',\n",
    "                loss='binary_crossentropy',\n",
    "                metrics=['accuracy'])\n",
    "\n",
    "    # # Print model summary\n",
    "    # model.summary()\n",
    "    return model\n"
   ]
  },
  {
   "cell_type": "code",
   "execution_count": 50,
   "metadata": {},
   "outputs": [],
   "source": [
    "def get_model_output(file_value):\n",
    "    y_predicted = np.zeros(10)\n",
    "    #get the file\n",
    "    t, signal, section_num, class_bool, p_num = extract_segments(files[file_value])\n",
    "    for i in range(10):\n",
    "        #run pca to reduce the dimensionality of the data (whiten to make it N(0,1))\n",
    "        pca = PCA(whiten = True, n_components = 0.99) #99% seems to be a standard\n",
    "        new_signal = pca.fit_transform(signal.T).T\n",
    "\n",
    "        #do some data reshaping and management and splitting\n",
    "        segments = new_signal.T.reshape((10,5121,np.shape(new_signal)[0]))\n",
    "        y_segments = class_bool.reshape((10, 5121)).T[0]\n",
    "        y_segments[y_segments == 2] = 0 #get 0s and 1s instead of 1s and 2s\n",
    "        X_train, y_train, X_test, y_test = split_data(i, segments, y_segments)\n",
    "\n",
    "        #train the model\n",
    "        model = make_model(np.shape(segments)[1:])\n",
    "        history = model.fit(X_train, y_train, \n",
    "                            epochs=10, \n",
    "                            batch_size=32, \n",
    "                            validation_split=0.3,\n",
    "                            verbose = 0)\n",
    "        y_predicted[i] = round(model.predict(X_test, batch_size=32)[0][0])\n",
    "\n",
    "    accuracy = (10 - np.count_nonzero(y_predicted - y_segments))/10\n",
    "    return y_predicted, y_segments"
   ]
  },
  {
   "cell_type": "code",
   "execution_count": 48,
   "metadata": {},
   "outputs": [],
   "source": [
    "def get_model_metrics(y_predicted, y_segments, i):\n",
    "    accuracy = (10 - np.count_nonzero(y_predicted - y_segments))/10\n",
    "    fig, ax = plt.subplots(figsize=(3,2))\n",
    "    disp = heatmap(confusion_matrix(y_segments, y_predicted),\n",
    "               annot = True)\n",
    "    disp.set_title(\"Participant {}, acc = {:.2f}\".format(i, accuracy))\n",
    "    plt.show()"
   ]
  },
  {
   "cell_type": "code",
   "execution_count": 49,
   "metadata": {},
   "outputs": [
    {
     "data": {
      "image/png": "[encoded data removed]",
      "text/plain": [
       "<Figure size 300x200 with 2 Axes>"
      ]
     },
     "metadata": {},
     "output_type": "display_data"
    }
   ],
   "source": [
    "fig, ax = plt.subplots(figsize=(3,2))\n",
    "disp = heatmap(confusion_matrix(y_segments, y_predicted),\n",
    "            annot = True)\n",
    "disp.set_title(\"Participant {}, acc = {:.2f}\".format(i, accuracy))\n",
    "plt.show()"
   ]
  },
  {
   "cell_type": "code",
   "execution_count": null,
   "metadata": {},
   "outputs": [],
   "source": [
    "accuracies = [0.3, 0.8, 0.5,0.3,0.3,0.9,np.nan,0.6,0.7,0.7, \n",
    "              0.8, 0.6, 0.5,, 0.7]"
   ]
  },
  {
   "cell_type": "code",
   "execution_count": 52,
   "metadata": {},
   "outputs": [
    {
     "name": "stdout",
     "output_type": "stream",
     "text": [
      "20\n"
     ]
    },
    {
     "ename": "IndexError",
     "evalue": "list index out of range",
     "output_type": "error",
     "traceback": [
      "\u001b[1;31m---------------------------------------------------------------------------\u001b[0m",
      "\u001b[1;31mIndexError\u001b[0m                                Traceback (most recent call last)",
      "Cell \u001b[1;32mIn[52], line 3\u001b[0m\n\u001b[0;32m      1\u001b[0m \u001b[38;5;28;01mfor\u001b[39;00m i \u001b[38;5;129;01min\u001b[39;00m \u001b[38;5;28mrange\u001b[39m(\u001b[38;5;241m20\u001b[39m,\u001b[38;5;241m21\u001b[39m):\n\u001b[0;32m      2\u001b[0m     \u001b[38;5;28mprint\u001b[39m(i)\n\u001b[1;32m----> 3\u001b[0m     y_predicted, y_segments \u001b[38;5;241m=\u001b[39m \u001b[43mget_model_output\u001b[49m\u001b[43m(\u001b[49m\u001b[43mi\u001b[49m\u001b[43m)\u001b[49m\n\u001b[0;32m      4\u001b[0m     \u001b[38;5;28mprint\u001b[39m(y_predicted)\n\u001b[0;32m      5\u001b[0m     \u001b[38;5;28mprint\u001b[39m(y_segments)\n",
      "Cell \u001b[1;32mIn[50], line 4\u001b[0m, in \u001b[0;36mget_model_output\u001b[1;34m(file_value)\u001b[0m\n\u001b[0;32m      2\u001b[0m y_predicted \u001b[38;5;241m=\u001b[39m np\u001b[38;5;241m.\u001b[39mzeros(\u001b[38;5;241m10\u001b[39m)\n\u001b[0;32m      3\u001b[0m \u001b[38;5;66;03m#get the file\u001b[39;00m\n\u001b[1;32m----> 4\u001b[0m t, signal, section_num, class_bool, p_num \u001b[38;5;241m=\u001b[39m extract_segments(\u001b[43mfiles\u001b[49m\u001b[43m[\u001b[49m\u001b[43mfile_value\u001b[49m\u001b[43m]\u001b[49m)\n\u001b[0;32m      5\u001b[0m \u001b[38;5;28;01mfor\u001b[39;00m i \u001b[38;5;129;01min\u001b[39;00m \u001b[38;5;28mrange\u001b[39m(\u001b[38;5;241m10\u001b[39m):\n\u001b[0;32m      6\u001b[0m     \u001b[38;5;66;03m#run pca to reduce the dimensionality of the data (whiten to make it N(0,1))\u001b[39;00m\n\u001b[0;32m      7\u001b[0m     pca \u001b[38;5;241m=\u001b[39m PCA(whiten \u001b[38;5;241m=\u001b[39m \u001b[38;5;28;01mTrue\u001b[39;00m, n_components \u001b[38;5;241m=\u001b[39m \u001b[38;5;241m0.99\u001b[39m) \u001b[38;5;66;03m#99% seems to be a standard\u001b[39;00m\n",
      "\u001b[1;31mIndexError\u001b[0m: list index out of range"
     ]
    }
   ],
   "source": [
    "for i in range(len(files)):\n",
    "    print(i)\n",
    "    y_predicted, y_segments = get_model_output(i)\n",
    "    print(y_predicted)\n",
    "    print(y_segments)\n",
    "    get_model_metrics(y_predicted, y_segments, i)"
   ]
  },
  {
   "cell_type": "code",
   "execution_count": null,
   "metadata": {},
   "outputs": [],
   "source": []
  },
  {
   "cell_type": "code",
   "execution_count": 34,
   "metadata": {},
   "outputs": [],
   "source": [
    "accuracies = [0.3, 0.8, 0.5, 0.3, 0.3,  0.9,np.nan,0.6,0.7,0.7, \n",
    "              0.8, 0.6, 0.5, 0.7, 0.4,  0.8,0.7   ,0.7,0.8,] #i just typed them cuz i couldn't be\n",
    "#bothered to figure out how to save the confusion matrixes :skull:, I promise my results are legit"
   ]
  }
 ],
 "metadata": {
  "kernelspec": {
   "display_name": "base",
   "language": "python",
   "name": "python3"
  },
  "language_info": {
   "codemirror_mode": {
    "name": "ipython",
    "version": 3
   },
   "file_extension": ".py",
   "mimetype": "text/x-python",
   "name": "python",
   "nbconvert_exporter": "python",
   "pygments_lexer": "ipython3",
   "version": "3.8.18"
  }
 },
 "nbformat": 4,
 "nbformat_minor": 2
}
