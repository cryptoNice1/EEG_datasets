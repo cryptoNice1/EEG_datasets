{
 "cells": [
  {
   "cell_type": "code",
   "execution_count": 2,
   "metadata": {},
   "outputs": [],
   "source": [
    "import numpy as np\n",
    "from tensorflow.keras.datasets import cifar10\n",
    "from tensorflow.keras.models import Sequential\n",
    "from tensorflow.keras.layers import Conv2D, MaxPooling2D, Flatten, Dense\n",
    "from tensorflow.keras.utils import to_categorical\n",
    "import matplotlib.pyplot as plt\n",
    "from sklearn.decomposition import PCA\n",
    "import os\n",
    "import pandas as pd"
   ]
  },
  {
   "cell_type": "code",
   "execution_count": 3,
   "metadata": {},
   "outputs": [],
   "source": [
    "from gettingsegments import extract_segments, plot_signal"
   ]
  },
  {
   "cell_type": "markdown",
   "metadata": {},
   "source": [
    "## Getting the data"
   ]
  },
  {
   "cell_type": "code",
   "execution_count": 4,
   "metadata": {},
   "outputs": [],
   "source": [
    "current_dir = os.getcwd()\n",
    "os.chdir('c:\\\\Users\\\\Melanie\\\\OneDrive - Rensselaer Polytechnic Institute\\\\Desktop\\\\School\\\\24_Spring\\\\MLE\\\\Project\\\\data')\n",
    "\n",
    "electrode_locations = {\"FP1\": 0, \"FP2\": 1, \"FC5\": 2, \"FC6\": 3, \"FZ\": 4,\n",
    "                        \"T7\": 5, \"CZ\": 6, \"T8\": 7, \"P7\": 8, \"P3\": 9, \"PZ\": 10,\n",
    "                          \"P4\": 11, \"P8\": 12, \"O1\": 13, \"Oz\": 14, \"O2\": 15}\n",
    "\n",
    "files = os.listdir()\n",
    "#getting the demographics both gets rid of that column and imports it \n",
    "demographics = pd.read_csv(files.pop(0),names=[\"Isman\",\"Age\",\"Fatigue\"])\n",
    "n = np.shape(demographics)[0]"
   ]
  },
  {
   "cell_type": "code",
   "execution_count": 5,
   "metadata": {},
   "outputs": [],
   "source": [
    "#getting the signal for person 1\n",
    "t, signal, section_num, class_bool, p_num = extract_segments(files[0])"
   ]
  },
  {
   "cell_type": "markdown",
   "metadata": {},
   "source": [
    "### I'm going to start with a 1d CNN\n",
    "\n",
    "the reason is because I'd like to start with something that is easier in the time-complexity sense"
   ]
  },
  {
   "cell_type": "code",
   "execution_count": 6,
   "metadata": {},
   "outputs": [],
   "source": [
    "\"\"\"Doing PCA on the whole dataset to further reduce time\"\"\"\n",
    "pca = PCA(whiten = True, n_components = 0.99) #whiten means making mean = 0, sd = 1\n",
    "\n",
    "new_signal = pca.fit_transform(signal.T).T"
   ]
  },
  {
   "cell_type": "code",
   "execution_count": 46,
   "metadata": {},
   "outputs": [
    {
     "data": {
      "text/plain": [
       "array([0., 1., 0., 1., 0., 1., 0., 1., 0.])"
      ]
     },
     "execution_count": 46,
     "metadata": {},
     "output_type": "execute_result"
    }
   ],
   "source": [
    "\"\"\"Separating out the data into testing and training. I think i'll do leave\n",
    "one out cross validation, so I'll just test it by taking the first one out \n",
    "first\"\"\"\n",
    "segments = new_signal.T.reshape((10,5121,np.shape(new_signal)[0]))\n",
    "y_segments = class_bool.reshape((10, 5121)).T[0]\n",
    "y_segments[y_segments == 2] = 0\n",
    "segment_shape = np.shape(segments)\n",
    "\n",
    "X_train, X_test = segments[1:], segments[0]\n",
    "y_train, y_test = y_segments[1:].flatten(), y_segments[0]\n",
    "X_test = X_test.reshape(1, np.shape(X_test)[0], np.shape(X_test)[1])"
   ]
  },
  {
   "cell_type": "code",
   "execution_count": 9,
   "metadata": {},
   "outputs": [],
   "source": [
    "from tensorflow.keras.layers import Conv1D, MaxPooling1D"
   ]
  },
  {
   "cell_type": "code",
   "execution_count": 10,
   "metadata": {},
   "outputs": [],
   "source": [
    "from tensorflow import config\n",
    "config.run_functions_eagerly(True)"
   ]
  },
  {
   "cell_type": "code",
   "execution_count": 12,
   "metadata": {},
   "outputs": [
    {
     "name": "stdout",
     "output_type": "stream",
     "text": [
      "Model: \"sequential_1\"\n",
      "_________________________________________________________________\n",
      "Layer (type)                 Output Shape              Param #   \n",
      "=================================================================\n",
      "conv1d_6 (Conv1D)            (None, 5112, 32)          1952      \n",
      "_________________________________________________________________\n",
      "max_pooling1d_5 (MaxPooling1 (None, 2556, 32)          0         \n",
      "_________________________________________________________________\n",
      "conv1d_7 (Conv1D)            (None, 2547, 16)          5136      \n",
      "_________________________________________________________________\n",
      "max_pooling1d_6 (MaxPooling1 (None, 1273, 16)          0         \n",
      "_________________________________________________________________\n",
      "conv1d_8 (Conv1D)            (None, 1264, 16)          2576      \n",
      "_________________________________________________________________\n",
      "max_pooling1d_7 (MaxPooling1 (None, 632, 16)           0         \n",
      "_________________________________________________________________\n",
      "conv1d_9 (Conv1D)            (None, 623, 16)           2576      \n",
      "_________________________________________________________________\n",
      "max_pooling1d_8 (MaxPooling1 (None, 311, 16)           0         \n",
      "_________________________________________________________________\n",
      "conv1d_10 (Conv1D)           (None, 302, 16)           2576      \n",
      "_________________________________________________________________\n",
      "max_pooling1d_9 (MaxPooling1 (None, 151, 16)           0         \n",
      "_________________________________________________________________\n",
      "conv1d_11 (Conv1D)           (None, 142, 16)           2576      \n",
      "_________________________________________________________________\n",
      "flatten_1 (Flatten)          (None, 2272)              0         \n",
      "_________________________________________________________________\n",
      "dense_2 (Dense)              (None, 64)                145472    \n",
      "_________________________________________________________________\n",
      "dense_3 (Dense)              (None, 8)                 520       \n",
      "=================================================================\n",
      "Total params: 163,384\n",
      "Trainable params: 163,384\n",
      "Non-trainable params: 0\n",
      "_________________________________________________________________\n"
     ]
    }
   ],
   "source": [
    "model = Sequential()\n",
    "#the layers\n",
    "kernal_size = 10\n",
    "model.add(Conv1D(filters=32, #this is the number of filters\n",
    "                 kernel_size=kernal_size,\n",
    "                 #set the activation function\n",
    "                 activation='relu', \n",
    "                 input_shape = segment_shape[1:]))\n",
    "model.add(MaxPooling1D(pool_size=2, strides=2))\n",
    "model.add(Conv1D(filters=16, \n",
    "                 kernel_size=kernal_size,\n",
    "                 activation='relu'))\n",
    "model.add(MaxPooling1D(pool_size=2, strides=2))\n",
    "model.add(Conv1D(filters=16, \n",
    "                 kernel_size=kernal_size,\n",
    "                 activation='relu'))\n",
    "model.add(MaxPooling1D(pool_size=2, strides=2))\n",
    "model.add(Conv1D(filters=16, \n",
    "                 kernel_size=kernal_size,\n",
    "                 activation='relu'))\n",
    "model.add(MaxPooling1D(pool_size=2, strides=2))\n",
    "model.add(Conv1D(filters=16, \n",
    "                 kernel_size=kernal_size,\n",
    "                 activation='relu'))\n",
    "model.add(MaxPooling1D(pool_size=2, strides=2))\n",
    "model.add(Conv1D(filters=16, \n",
    "                 kernel_size=kernal_size,\n",
    "                 activation='relu'))\n",
    "model.add(Flatten())\n",
    "model.add(Dense(64, #number of units\n",
    "                activation='relu'))\n",
    "model.add(Dense(8, #64 neurons\n",
    "                activation='sigmoid')) #maybe u can try tanh\n",
    "#compiler\n",
    "model.compile(optimizer='adam',\n",
    "              loss='binary_crossentropy',\n",
    "              metrics=['accuracy'])\n",
    "\n",
    "# Print model summary\n",
    "model.summary()"
   ]
  },
  {
   "cell_type": "code",
   "execution_count": 48,
   "metadata": {},
   "outputs": [
    {
     "name": "stdout",
     "output_type": "stream",
     "text": [
      "Epoch 1/10\n",
      "1/1 [==============================] - 0s 61ms/step - loss: 7.6666 - accuracy: 0.5000 - val_loss: 10.2222 - val_accuracy: 0.6667\n",
      "Epoch 2/10\n",
      "1/1 [==============================] - 0s 28ms/step - loss: 7.6666 - accuracy: 0.5000 - val_loss: 10.2222 - val_accuracy: 0.6667\n",
      "Epoch 3/10\n",
      "1/1 [==============================] - 0s 30ms/step - loss: 7.6666 - accuracy: 0.5000 - val_loss: 10.2222 - val_accuracy: 0.6667\n",
      "Epoch 4/10\n",
      "1/1 [==============================] - 0s 28ms/step - loss: 7.6666 - accuracy: 0.5000 - val_loss: 10.2222 - val_accuracy: 0.6667\n",
      "Epoch 5/10\n",
      "1/1 [==============================] - 0s 35ms/step - loss: 7.6666 - accuracy: 0.5000 - val_loss: 10.2222 - val_accuracy: 0.6667\n",
      "Epoch 6/10\n",
      "1/1 [==============================] - 0s 27ms/step - loss: 7.6666 - accuracy: 0.5000 - val_loss: 10.2222 - val_accuracy: 0.6667\n",
      "Epoch 7/10\n",
      "1/1 [==============================] - 0s 31ms/step - loss: 7.6666 - accuracy: 0.5000 - val_loss: 10.2222 - val_accuracy: 0.6667\n",
      "Epoch 8/10\n",
      "1/1 [==============================] - 0s 30ms/step - loss: 7.6666 - accuracy: 0.5000 - val_loss: 10.2222 - val_accuracy: 0.6667\n",
      "Epoch 9/10\n",
      "1/1 [==============================] - 0s 42ms/step - loss: 7.6666 - accuracy: 0.5000 - val_loss: 10.2222 - val_accuracy: 0.6667\n",
      "Epoch 10/10\n",
      "1/1 [==============================] - 0s 27ms/step - loss: 7.6666 - accuracy: 0.5000 - val_loss: 10.2222 - val_accuracy: 0.6667\n"
     ]
    }
   ],
   "source": [
    "# Train model\n",
    "history = model.fit(X_train, y_train, epochs=10, batch_size=32, validation_split=0.3)"
   ]
  },
  {
   "cell_type": "code",
   "execution_count": 49,
   "metadata": {},
   "outputs": [
    {
     "data": {
      "image/png": "[encoded data removed]",
      "text/plain": [
       "<Figure size 640x480 with 1 Axes>"
      ]
     },
     "metadata": {},
     "output_type": "display_data"
    }
   ],
   "source": [
    "plt.plot(history.history['accuracy'])\n",
    "plt.plot(history.history['val_accuracy'])\n",
    "plt.title('Model Accuracy')\n",
    "plt.ylabel('Accuracy')\n",
    "plt.xlabel('Epoch')\n",
    "plt.legend(['Train', 'Validation'], loc='upper left')\n",
    "plt.show()"
   ]
  },
  {
   "cell_type": "code",
   "execution_count": 50,
   "metadata": {},
   "outputs": [
    {
     "data": {
      "text/plain": [
       "array([[1., 1., 1., 1., 1., 1., 1., 1.]], dtype=float32)"
      ]
     },
     "execution_count": 50,
     "metadata": {},
     "output_type": "execute_result"
    }
   ],
   "source": [
    "model.predict(X_test, batch_size=32)"
   ]
  }
 ],
 "metadata": {
  "kernelspec": {
   "display_name": "base",
   "language": "python",
   "name": "python3"
  },
  "language_info": {
   "codemirror_mode": {
    "name": "ipython",
    "version": 3
   },
   "file_extension": ".py",
   "mimetype": "text/x-python",
   "name": "python",
   "nbconvert_exporter": "python",
   "pygments_lexer": "ipython3",
   "version": "3.8.18"
  }
 },
 "nbformat": 4,
 "nbformat_minor": 2
}
