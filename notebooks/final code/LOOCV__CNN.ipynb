{
 "cells": [
  {
   "cell_type": "code",
   "execution_count": 104,
   "metadata": {},
   "outputs": [],
   "source": [
    "import numpy as np\n",
    "from tensorflow.keras.models import Sequential\n",
    "from tensorflow.keras.layers import Conv1D, MaxPooling1D, Flatten, Dense\n",
    "from tensorflow.keras.utils import to_categorical\n",
    "import matplotlib.pyplot as plt\n",
    "from sklearn.decomposition import PCA\n",
    "import os\n",
    "import pandas as pd\n",
    "from gettingsegments import extract_segments, plot_signal\n",
    "from sklearn.metrics import confusion_matrix\n",
    "from seaborn import heatmap\n",
    "from sklearn import preprocessing\n",
    "from tensorflow import keras"
   ]
  },
  {
   "cell_type": "code",
   "execution_count": 105,
   "metadata": {},
   "outputs": [],
   "source": [
    "current_dir = os.getcwd()\n",
    "os.chdir('c:\\\\Users\\\\Melanie\\\\OneDrive - Rensselaer Polytechnic Institute\\\\Desktop\\\\School\\\\24_Spring\\\\MLE\\\\Project\\\\data')\n",
    "\n",
    "electrode_locations = {\"FP1\": 0, \"FP2\": 1, \"FC5\": 2, \"FC6\": 3, \"FZ\": 4,\n",
    "                        \"T7\": 5, \"CZ\": 6, \"T8\": 7, \"P7\": 8, \"P3\": 9, \"PZ\": 10,\n",
    "                          \"P4\": 11, \"P8\": 12, \"O1\": 13, \"Oz\": 14, \"O2\": 15}\n",
    "\n",
    "files = os.listdir()\n",
    "#getting the demographics both gets rid of that column and imports it \n",
    "demographics = pd.read_csv(files.pop(0),names=[\"Isman\",\"Age\",\"Fatigue\"])\n",
    "n = np.shape(demographics)[0]"
   ]
  },
  {
   "cell_type": "code",
   "execution_count": 107,
   "metadata": {},
   "outputs": [],
   "source": [
    "indices = list(range(10))\n",
    "def split_data(i, X, y):\n",
    "    training_set = indices[:i] + indices[i+1:]\n",
    "    X_train, y_train = X[training_set], np.matrix(y[training_set]).T\n",
    "    X_test, y_test = X[i], np.matrix(y[i])\n",
    "    \n",
    "    #reshape X_test to also be a 3D matrix like how X_train is\n",
    "    X_test = X_test.reshape(1, np.shape(X_test)[0], np.shape(X_test)[1])\n",
    "    return X_train, y_train, X_test, y_test"
   ]
  },
  {
   "cell_type": "code",
   "execution_count": 108,
   "metadata": {},
   "outputs": [],
   "source": [
    "def make_model(inputshape):\n",
    "    model = Sequential()\n",
    "    #the layers\n",
    "    kernal_size = 10\n",
    "    model.add(Conv1D(filters=64, #this is the number of filters\n",
    "                    kernel_size=kernal_size,\n",
    "                    #set the activation function\n",
    "                    activation='relu', \n",
    "                    input_shape = inputshape))\n",
    "    model.add(MaxPooling1D(pool_size=2, strides=2))\n",
    "    model.add(Conv1D(filters=32, \n",
    "                    kernel_size=kernal_size,\n",
    "                    activation='relu'))\n",
    "    model.add(MaxPooling1D(pool_size=2, strides=2))\n",
    "    model.add(Conv1D(filters=32, \n",
    "                    kernel_size=kernal_size,\n",
    "                    activation='relu'))\n",
    "    model.add(MaxPooling1D(pool_size=2, strides=2))\n",
    "    model.add(Conv1D(filters=32, \n",
    "                    kernel_size=kernal_size,\n",
    "                    activation='relu'))\n",
    "    model.add(MaxPooling1D(pool_size=2, strides=2))\n",
    "    model.add(Conv1D(filters=16, \n",
    "                    kernel_size=kernal_size,\n",
    "                    activation='relu'))\n",
    "    model.add(MaxPooling1D(pool_size=2, strides=2))\n",
    "    model.add(Conv1D(filters=16, \n",
    "                    kernel_size=kernal_size,\n",
    "                    activation='relu'))\n",
    "    model.add(MaxPooling1D(pool_size=2, strides=2))\n",
    "    model.add(Conv1D(filters=16, \n",
    "                    kernel_size=kernal_size,\n",
    "                    activation='relu'))\n",
    "    model.add(MaxPooling1D(pool_size=2, strides=2))\n",
    "    model.add(Conv1D(filters=16, \n",
    "                    kernel_size=kernal_size,\n",
    "                    activation='relu'))\n",
    "\n",
    "    #flatten out and make the rest of it\n",
    "    model.add(Flatten())\n",
    "    model.add(Dense(256, #number of units\n",
    "                    activation='relu'))\n",
    "    model.add(Dense(128, #number of units\n",
    "                    activation='relu'))\n",
    "    model.add(Dense(64, #number of units\n",
    "                    activation='relu'))\n",
    "    model.add(Dense(1, #64 neurons\n",
    "                    activation='tanh')) #maybe u can try tanh\n",
    "    #compiler\n",
    "    model.compile(optimizer='adam',\n",
    "                loss='binary_crossentropy',\n",
    "                metrics=['accuracy'])\n",
    "\n",
    "    # # Print model summary\n",
    "    # model.summary()\n",
    "    return model"
   ]
  },
  {
   "cell_type": "code",
   "execution_count": 114,
   "metadata": {},
   "outputs": [],
   "source": [
    "def get_model_output(file_value):\n",
    "    y_predicted = np.zeros(10)\n",
    "    #get the file\n",
    "    t, signal, section_num, class_bool, p_num = extract_segments(files[file_value])\n",
    "    \n",
    "    #run pca to reduce the dimensionality of the data (whiten to make it N(0,1))\n",
    "    pca = PCA(whiten = True, n_components = 0.99) #99% seems to be a standard\n",
    "    new_signal = pca.fit_transform(signal.T).T\n",
    "    signal = preprocessing.normalize(signal)\n",
    "    for i in range(10):\n",
    "        #do some data reshaping and management and splitting\n",
    "        segments = signal.T.reshape((10,5121,np.shape(signal)[0]))\n",
    "        y_segments = class_bool.reshape((10, 5121)).T[0]\n",
    "        y_segments[y_segments == 2] = 0 #get 0s and 1s instead of 1s and 2s\n",
    "        X_train, y_train, X_test, y_test = split_data(i, segments, y_segments)\n",
    "\n",
    "        #train the model\n",
    "        model = make_model(np.shape(segments)[1:])\n",
    "        history = model.fit(X_train, y_train, \n",
    "                            epochs=10, \n",
    "                            batch_size=100, \n",
    "                            validation_split=0.3,\n",
    "                            verbose=0)\n",
    "        y_predicted[i] = round(model.predict(X_test, batch_size=32)[0][0])\n",
    "    return y_predicted, y_segments"
   ]
  },
  {
   "cell_type": "code",
   "execution_count": 110,
   "metadata": {},
   "outputs": [],
   "source": [
    "def get_rnn_output(file_value):\n",
    "    y_predicted = np.zeros(10)\n",
    "    #get the file\n",
    "    t, signal, section_num, class_bool, p_num = extract_segments(files[file_value])\n",
    "    \n",
    "    #run pca to reduce the dimensionality of the data (whiten to make it N(0,1))\n",
    "    pca = PCA(whiten = True, n_components = 0.99) #99% seems to be a standard\n",
    "    new_signal = pca.fit_transform(signal.T).T\n",
    "    signal = preprocessing.normalize(signal)\n",
    "    for i in range(10):\n",
    "        print(i)\n",
    "        #do some data reshaping and management and splitting\n",
    "        segments = new_signal.T.reshape((10,5121,np.shape(new_signal)[0]))\n",
    "        y_segments = class_bool.reshape((10, 5121)).T[0]\n",
    "        y_segments[y_segments == 2] = 0 #get 0s and 1s instead of 1s and 2s\n",
    "        X_train, y_train, X_test, y_test = split_data(i, segments, y_segments)\n",
    "        model = rnn_model()\n",
    "        history = model.fit(X_train, y_train, \n",
    "                            epochs=10, \n",
    "                            batch_size=100, \n",
    "                            validation_split=0.3,\n",
    "                            verbose=0)\n",
    "        print(model.predict(X_test, batch_size=32)[0][0])\n",
    "        y_predicted[i] = round(model.predict(X_test, batch_size=32)[0][0])\n",
    "    return y_predicted, y_segments\n",
    "\n",
    "def rnn_model():\n",
    "    model = keras.models.Sequential([\n",
    "        keras.layers.SimpleRNN(60, return_sequences=True, input_shape=[None, 9]),\n",
    "        keras.layers.SimpleRNN(20, return_sequences=True),\n",
    "        keras.layers.SimpleRNN(1) # return_sequence=False (univariate time series)\n",
    "    ])\n",
    "    \n",
    "    model.compile(optimizer='adam',\n",
    "                loss='binary_crossentropy',\n",
    "                metrics=['accuracy'])\n",
    "    return model"
   ]
  },
  {
   "cell_type": "code",
   "execution_count": 91,
   "metadata": {},
   "outputs": [],
   "source": [
    "t, signal, section_num, class_bool, p_num = extract_segments(files[0]) \n",
    "pca = PCA(whiten = True, n_components = 0.99) #99% seems to be a standard\n",
    "new_signal = pca.fit_transform(signal.3T).T\n",
    "#do some data reshaping and management and splitting\n",
    "segments = new_signal.T.reshape((10,5121,np.shape(new_signal)[0]))\n",
    "y_segments = class_bool.reshape((10, 5121)).T[0]\n",
    "y_segments[y_segments == 2] = 0 #get 0s and 1s instead of 1s and 2s\n",
    "X_train, y_train, X_test, y_test = split_data(i, segments, y_segments)"
   ]
  },
  {
   "cell_type": "code",
   "execution_count": 69,
   "metadata": {},
   "outputs": [],
   "source": [
    "all_predicted_values = np.zeros((len(files)-1,10))\n",
    "all_actual_values = np.zeros((len(files)-1,10))"
   ]
  },
  {
   "cell_type": "code",
   "execution_count": 71,
   "metadata": {},
   "outputs": [
    {
     "data": {
      "text/plain": [
       "array([[1., 0., 1., 1., 1., 0., 0., 1., 0., 1.],\n",
       "       [0., 0., 0., 0., 0., 0., 0., 1., 0., 0.],\n",
       "       [0., 0., 1., 1., 0., 0., 0., 0., 0., 1.],\n",
       "       [0., 0., 1., 1., 1., 0., 1., 0., 0., 1.],\n",
       "       [1., 0., 0., 1., 0., 0., 0., 1., 1., 0.],\n",
       "       [1., 0., 1., 0., 1., 1., 0., 0., 0., 1.],\n",
       "       [1., 1., 0., 1., 1., 0., 0., 1., 0., 0.],\n",
       "       [1., 1., 1., 1., 1., 0., 0., 1., 1., 0.],\n",
       "       [1., 0., 0., 1., 0., 1., 0., 0., 1., 1.],\n",
       "       [1., 0., 1., 0., 0., 0., 0., 1., 0., 1.],\n",
       "       [0., 1., 0., 1., 0., 1., 1., 1., 0., 1.],\n",
       "       [1., 1., 0., 1., 1., 1., 0., 1., 0., 0.],\n",
       "       [1., 0., 1., 1., 1., 0., 0., 0., 0., 1.],\n",
       "       [0., 0., 1., 1., 1., 1., 0., 0., 0., 0.],\n",
       "       [0., 1., 0., 0., 1., 0., 0., 0., 0., 0.],\n",
       "       [0., 1., 0., 1., 0., 0., 0., 1., 0., 1.],\n",
       "       [1., 1., 1., 1., 0., 1., 1., 1., 0., 0.],\n",
       "       [1., 0., 0., 0., 1., 0., 1., 1., 0., 0.],\n",
       "       [0., 0., 0., 0., 1., 1., 1., 0., 0., 1.]])"
      ]
     },
     "execution_count": 71,
     "metadata": {},
     "output_type": "execute_result"
    }
   ],
   "source": [
    "predicted_values"
   ]
  },
  {
   "cell_type": "code",
   "execution_count": 72,
   "metadata": {},
   "outputs": [
    {
     "data": {
      "text/plain": [
       "array([1., 0., 1., 0., 1., 0., 1., 0., 1., 0., 0., 1., 0., 1., 0., 1., 0.,\n",
       "       1., 0., 1., 1., 0., 1., 0., 1., 0., 1., 0., 1., 0., 1., 0., 1., 0.,\n",
       "       1., 0., 1., 0., 1., 0., 1., 0., 1., 0., 1., 0., 1., 0., 1., 0., 0.,\n",
       "       1., 0., 1., 0., 1., 0., 1., 0., 1., 0., 0., 0., 0., 0., 0., 0., 0.,\n",
       "       0., 0., 1., 0., 1., 0., 1., 0., 1., 0., 1., 0., 1., 0., 1., 0., 1.,\n",
       "       0., 1., 0., 1., 0., 1., 0., 1., 0., 1., 0., 1., 0., 1., 0., 1., 0.,\n",
       "       1., 0., 1., 0., 1., 0., 1., 0., 1., 0., 1., 0., 1., 0., 1., 0., 1.,\n",
       "       0., 1., 0., 1., 0., 1., 0., 1., 0., 1., 0., 1., 0., 1., 0., 1., 0.,\n",
       "       1., 0., 1., 0., 1., 0., 1., 0., 1., 0., 1., 0., 1., 0., 1., 0., 1.,\n",
       "       0., 1., 0., 1., 0., 1., 0., 1., 0., 1., 0., 1., 0., 1., 0., 1., 0.,\n",
       "       1., 0., 1., 0., 1., 0., 1., 0., 1., 0., 1., 0., 1., 0., 1., 0., 1.,\n",
       "       0., 1., 0.])"
      ]
     },
     "execution_count": 72,
     "metadata": {},
     "output_type": "execute_result"
    }
   ],
   "source": [
    "all_predicted_values.flatten()\n",
    "all_actual_values.flatten()"
   ]
  },
  {
   "cell_type": "code",
   "execution_count": 130,
   "metadata": {},
   "outputs": [],
   "source": [
    "pre_actual = np.array([1., 0., 1., 0., 1., 0., 1., 0., 1., 0., 0., 1., 0., 1., 0., 1., 0.,\n",
    "       1., 0., 1., 1., 0., 1., 0., 1., 0., 1., 0., 1., 0., 1., 0., 1., 0.,\n",
    "       1., 0., 1., 0., 1., 0., 1., 0., 1., 0., 1., 0., 1., 0., 1., 0., 0.,\n",
    "       1., 0., 1., 0., 1., 0., 1., 0., 1., 0., 0., 0., 0., 0., 0., 0., 0.,\n",
    "       0., 0., 1., 0., 1., 0., 1., 0., 1., 0., 1., 0., 1., 0., 1., 0., 1.,\n",
    "       0., 1., 0., 1., 0., 1., 0., 1., 0., 1., 0., 1., 0., 1., 0., 1., 0.,\n",
    "       1., 0., 1., 0., 1., 0., 1., 0., 1., 0., 1., 0., 1., 0., 1., 0., 1.,\n",
    "       0., 1., 0., 1., 0., 1., 0., 1., 0., 1., 0., 1., 0., 1., 0., 1., 0.,\n",
    "       1., 0., 1., 0., 1., 0., 1., 0., 1., 0., 1., 0., 1., 0., 1., 0., 1.,\n",
    "       0., 1., 0., 1., 0., 1., 0., 1., 0., 1., 0., 1., 0., 1., 0., 1., 0.,\n",
    "       1., 0., 1., 0., 1., 0., 1., 0., 1., 0., 1., 0., 1., 0., 1., 0., 1.,\n",
    "       0., 1., 0.])\n",
    "pre_predicted = np.array([[1., 0., 1., 1., 1., 0., 0., 1., 0., 1.],\n",
    "       [0., 0., 0., 0., 0., 0., 0., 1., 0., 0.],\n",
    "       [0., 0., 1., 1., 0., 0., 0., 0., 0., 1.],\n",
    "       [0., 0., 1., 1., 1., 0., 1., 0., 0., 1.],\n",
    "       [1., 0., 0., 1., 0., 0., 0., 1., 1., 0.],\n",
    "       [1., 0., 1., 0., 1., 1., 0., 0., 0., 1.],\n",
    "       [1., 1., 0., 1., 1., 0., 0., 1., 0., 0.],\n",
    "       [1., 1., 1., 1., 1., 0., 0., 1., 1., 0.],\n",
    "       [1., 0., 0., 1., 0., 1., 0., 0., 1., 1.],\n",
    "       [1., 0., 1., 0., 0., 0., 0., 1., 0., 1.],\n",
    "       [0., 1., 0., 1., 0., 1., 1., 1., 0., 1.],\n",
    "       [1., 1., 0., 1., 1., 1., 0., 1., 0., 0.],\n",
    "       [1., 0., 1., 1., 1., 0., 0., 0., 0., 1.],\n",
    "       [0., 0., 1., 1., 1., 1., 0., 0., 0., 0.],\n",
    "       [0., 1., 0., 0., 1., 0., 0., 0., 0., 0.],\n",
    "       [0., 1., 0., 1., 0., 0., 0., 1., 0., 1.],\n",
    "       [1., 1., 1., 1., 0., 1., 1., 1., 0., 0.],\n",
    "       [1., 0., 0., 0., 1., 0., 1., 1., 0., 0.],\n",
    "       [0., 0., 0., 0., 1., 1., 1., 0., 0., 1.]])"
   ]
  },
  {
   "cell_type": "code",
   "execution_count": 136,
   "metadata": {},
   "outputs": [
    {
     "data": {
      "text/plain": [
       "0.45789473684210524"
      ]
     },
     "execution_count": 136,
     "metadata": {},
     "output_type": "execute_result"
    }
   ],
   "source": [
    "np.sum(np.sum(np.reshape(pre_actual,(19,10)) == pre_predicted,axis=1)/19)/10"
   ]
  },
  {
   "cell_type": "code",
   "execution_count": 11,
   "metadata": {},
   "outputs": [],
   "source": [
    "def get_model_metrics(y_predicted, y_segments, i):\n",
    "    accuracy = (10 - np.count_nonzero(y_predicted - y_segments))/10\n",
    "    fig, ax = plt.subplots(figsize=(3,2))\n",
    "    disp = heatmap(confusion_matrix(y_segments, y_predicted),\n",
    "               annot = True)\n",
    "    disp.set_title(\"Participant {}, acc = {:.2f}\".format(i, accuracy))\n",
    "    plt.show()"
   ]
  },
  {
   "cell_type": "code",
   "execution_count": 73,
   "metadata": {},
   "outputs": [
    {
     "data": {
      "image/png": "[encoded data removed]",
      "text/plain": [
       "<Figure size 300x200 with 2 Axes>"
      ]
     },
     "metadata": {},
     "output_type": "display_data"
    }
   ],
   "source": [
    "fig, ax = plt.subplots(figsize=(3,2))\n",
    "disp = heatmap(confusion_matrix(all_predicted_values.flatten(), all_actual_values.flatten()),\n",
    "            annot = True)\n",
    "plt.title(\"Confusion matrix\")\n",
    "plt.show()"
   ]
  },
  {
   "cell_type": "code",
   "execution_count": 115,
   "metadata": {},
   "outputs": [
    {
     "name": "stdout",
     "output_type": "stream",
     "text": [
      "1/1 [==============================] - 0s 420ms/step\n",
      "1/1 [==============================] - 0s 470ms/step\n",
      "1/1 [==============================] - 0s 444ms/step\n",
      "1/1 [==============================] - 0s 462ms/step\n",
      "1/1 [==============================] - 0s 394ms/step\n",
      "1/1 [==============================] - 0s 357ms/step\n",
      "1/1 [==============================] - 0s 339ms/step\n",
      "1/1 [==============================] - 0s 351ms/step\n",
      "1/1 [==============================] - 1s 908ms/step\n",
      "1/1 [==============================] - 0s 406ms/step\n",
      "1/1 [==============================] - 0s 399ms/step\n",
      "1/1 [==============================] - 0s 480ms/step\n",
      "1/1 [==============================] - 0s 407ms/step\n",
      "1/1 [==============================] - 0s 488ms/step\n",
      "1/1 [==============================] - 0s 396ms/step\n",
      "1/1 [==============================] - 1s 505ms/step\n",
      "1/1 [==============================] - 1s 503ms/step\n",
      "1/1 [==============================] - 0s 479ms/step\n",
      "1/1 [==============================] - 0s 412ms/step\n",
      "1/1 [==============================] - 1s 515ms/step\n",
      "1/1 [==============================] - 0s 431ms/step\n",
      "1/1 [==============================] - 0s 420ms/step\n",
      "1/1 [==============================] - 1s 514ms/step\n",
      "1/1 [==============================] - 0s 487ms/step\n",
      "1/1 [==============================] - 0s 473ms/step\n",
      "1/1 [==============================] - 0s 460ms/step\n",
      "1/1 [==============================] - 0s 408ms/step\n",
      "1/1 [==============================] - 0s 429ms/step\n",
      "1/1 [==============================] - 0s 425ms/step\n",
      "1/1 [==============================] - 0s 404ms/step\n",
      "1/1 [==============================] - 0s 411ms/step\n",
      "1/1 [==============================] - 0s 295ms/step\n",
      "1/1 [==============================] - 0s 281ms/step\n",
      "1/1 [==============================] - 0s 293ms/step\n",
      "1/1 [==============================] - 0s 304ms/step\n",
      "1/1 [==============================] - 0s 307ms/step\n",
      "1/1 [==============================] - 0s 293ms/step\n",
      "1/1 [==============================] - 0s 321ms/step\n",
      "1/1 [==============================] - 0s 342ms/step\n",
      "1/1 [==============================] - 0s 330ms/step\n",
      "1/1 [==============================] - 0s 263ms/step\n",
      "1/1 [==============================] - 0s 320ms/step\n",
      "1/1 [==============================] - 0s 304ms/step\n",
      "1/1 [==============================] - 0s 360ms/step\n",
      "1/1 [==============================] - 0s 342ms/step\n",
      "1/1 [==============================] - 0s 329ms/step\n",
      "1/1 [==============================] - 0s 319ms/step\n",
      "1/1 [==============================] - 0s 293ms/step\n",
      "1/1 [==============================] - 0s 285ms/step\n",
      "1/1 [==============================] - 1s 755ms/step\n",
      "1/1 [==============================] - 0s 302ms/step\n",
      "1/1 [==============================] - 0s 251ms/step\n",
      "1/1 [==============================] - 0s 286ms/step\n",
      "1/1 [==============================] - 0s 280ms/step\n",
      "1/1 [==============================] - 0s 334ms/step\n",
      "1/1 [==============================] - 1s 796ms/step\n",
      "1/1 [==============================] - 0s 278ms/step\n",
      "1/1 [==============================] - 0s 283ms/step\n",
      "1/1 [==============================] - 0s 290ms/step\n",
      "1/1 [==============================] - 0s 297ms/step\n",
      "1/1 [==============================] - 0s 291ms/step\n",
      "1/1 [==============================] - 2s 2s/step\n",
      "1/1 [==============================] - 0s 267ms/step\n",
      "1/1 [==============================] - 0s 309ms/step\n",
      "1/1 [==============================] - 0s 297ms/step\n",
      "1/1 [==============================] - 0s 286ms/step\n",
      "1/1 [==============================] - 0s 324ms/step\n",
      "1/1 [==============================] - 0s 463ms/step\n",
      "1/1 [==============================] - 0s 443ms/step\n",
      "1/1 [==============================] - 0s 376ms/step\n",
      "1/1 [==============================] - 0s 446ms/step\n",
      "1/1 [==============================] - 0s 372ms/step\n",
      "1/1 [==============================] - 0s 364ms/step\n",
      "1/1 [==============================] - 0s 372ms/step\n",
      "1/1 [==============================] - 0s 356ms/step\n",
      "1/1 [==============================] - 0s 370ms/step\n",
      "1/1 [==============================] - 0s 350ms/step\n",
      "1/1 [==============================] - 0s 387ms/step\n",
      "1/1 [==============================] - 0s 341ms/step\n",
      "1/1 [==============================] - 0s 317ms/step\n",
      "1/1 [==============================] - 0s 336ms/step\n",
      "1/1 [==============================] - 0s 326ms/step\n",
      "1/1 [==============================] - 0s 353ms/step\n",
      "1/1 [==============================] - 0s 343ms/step\n",
      "1/1 [==============================] - 0s 400ms/step\n",
      "1/1 [==============================] - 0s 442ms/step\n",
      "1/1 [==============================] - 0s 398ms/step\n",
      "1/1 [==============================] - 0s 391ms/step\n",
      "1/1 [==============================] - 0s 343ms/step\n",
      "1/1 [==============================] - 0s 333ms/step\n",
      "1/1 [==============================] - 0s 329ms/step\n",
      "1/1 [==============================] - 0s 363ms/step\n",
      "1/1 [==============================] - 0s 345ms/step\n",
      "1/1 [==============================] - 0s 326ms/step\n",
      "1/1 [==============================] - 0s 340ms/step\n",
      "1/1 [==============================] - 0s 351ms/step\n",
      "1/1 [==============================] - 0s 329ms/step\n",
      "1/1 [==============================] - 0s 322ms/step\n",
      "1/1 [==============================] - 0s 355ms/step\n",
      "1/1 [==============================] - 0s 329ms/step\n",
      "1/1 [==============================] - 0s 321ms/step\n",
      "1/1 [==============================] - 0s 323ms/step\n",
      "1/1 [==============================] - 0s 337ms/step\n",
      "1/1 [==============================] - 0s 337ms/step\n",
      "1/1 [==============================] - 0s 330ms/step\n",
      "1/1 [==============================] - 0s 352ms/step\n",
      "1/1 [==============================] - 0s 361ms/step\n",
      "1/1 [==============================] - 0s 377ms/step\n",
      "1/1 [==============================] - 0s 391ms/step\n",
      "1/1 [==============================] - 0s 476ms/step\n",
      "1/1 [==============================] - 0s 393ms/step\n",
      "1/1 [==============================] - 0s 357ms/step\n",
      "1/1 [==============================] - 0s 390ms/step\n",
      "1/1 [==============================] - 1s 512ms/step\n",
      "1/1 [==============================] - 0s 438ms/step\n",
      "1/1 [==============================] - 0s 431ms/step\n",
      "1/1 [==============================] - 0s 429ms/step\n",
      "1/1 [==============================] - 1s 975ms/step\n",
      "1/1 [==============================] - 0s 375ms/step\n",
      "1/1 [==============================] - 0s 372ms/step\n",
      "1/1 [==============================] - 0s 396ms/step\n",
      "1/1 [==============================] - 0s 423ms/step\n",
      "1/1 [==============================] - 0s 450ms/step\n",
      "1/1 [==============================] - 0s 434ms/step\n",
      "1/1 [==============================] - 0s 393ms/step\n",
      "1/1 [==============================] - 0s 382ms/step\n",
      "1/1 [==============================] - 0s 431ms/step\n",
      "1/1 [==============================] - 1s 541ms/step\n",
      "1/1 [==============================] - 0s 416ms/step\n",
      "1/1 [==============================] - 0s 378ms/step\n",
      "1/1 [==============================] - 0s 384ms/step\n",
      "1/1 [==============================] - 0s 397ms/step\n",
      "1/1 [==============================] - 0s 306ms/step\n",
      "1/1 [==============================] - 0s 305ms/step\n",
      "1/1 [==============================] - 0s 337ms/step\n",
      "1/1 [==============================] - 0s 368ms/step\n",
      "1/1 [==============================] - 0s 350ms/step\n",
      "1/1 [==============================] - 0s 289ms/step\n",
      "1/1 [==============================] - 1s 951ms/step\n",
      "1/1 [==============================] - 0s 304ms/step\n",
      "1/1 [==============================] - 0s 310ms/step\n",
      "1/1 [==============================] - 0s 315ms/step\n",
      "1/1 [==============================] - 0s 318ms/step\n",
      "1/1 [==============================] - 0s 305ms/step\n",
      "1/1 [==============================] - 0s 297ms/step\n",
      "1/1 [==============================] - 0s 383ms/step\n",
      "1/1 [==============================] - 0s 310ms/step\n",
      "1/1 [==============================] - 0s 314ms/step\n",
      "1/1 [==============================] - 0s 293ms/step\n",
      "1/1 [==============================] - 1s 583ms/step\n",
      "1/1 [==============================] - 1s 505ms/step\n",
      "1/1 [==============================] - 0s 456ms/step\n",
      "1/1 [==============================] - 0s 399ms/step\n",
      "1/1 [==============================] - 0s 486ms/step\n",
      "1/1 [==============================] - 0s 359ms/step\n",
      "1/1 [==============================] - 0s 391ms/step\n",
      "1/1 [==============================] - 0s 464ms/step\n",
      "1/1 [==============================] - 0s 393ms/step\n",
      "1/1 [==============================] - 0s 488ms/step\n",
      "1/1 [==============================] - 0s 452ms/step\n",
      "1/1 [==============================] - 0s 389ms/step\n",
      "1/1 [==============================] - 0s 441ms/step\n",
      "1/1 [==============================] - 0s 481ms/step\n",
      "1/1 [==============================] - 0s 418ms/step\n",
      "1/1 [==============================] - 1s 527ms/step\n",
      "1/1 [==============================] - 0s 411ms/step\n",
      "1/1 [==============================] - 0s 432ms/step\n",
      "1/1 [==============================] - 1s 562ms/step\n",
      "1/1 [==============================] - 1s 1s/step\n",
      "1/1 [==============================] - 0s 427ms/step\n",
      "1/1 [==============================] - 0s 427ms/step\n",
      "1/1 [==============================] - 1s 504ms/step\n",
      "1/1 [==============================] - 0s 403ms/step\n",
      "1/1 [==============================] - 0s 421ms/step\n",
      "1/1 [==============================] - 1s 627ms/step\n",
      "1/1 [==============================] - 0s 396ms/step\n",
      "1/1 [==============================] - 0s 471ms/step\n",
      "1/1 [==============================] - 0s 385ms/step\n",
      "1/1 [==============================] - 0s 401ms/step\n",
      "1/1 [==============================] - 0s 405ms/step\n"
     ]
    }
   ],
   "source": [
    "i_values = list(range(len(files)))\n",
    "i_values.pop(6)\n",
    "all_predicted_values = np.zeros((len(i_values),10))\n",
    "all_actual_values = np.zeros((len(i_values),10))\n",
    "\n",
    "for i,v in enumerate(i_values):\n",
    "    y_predicted, y_segments = get_model_output(i)\n",
    "    all_predicted_values[i] = y_predicted\n",
    "    all_actual_values[i] = y_segments"
   ]
  },
  {
   "cell_type": "code",
   "execution_count": 117,
   "metadata": {},
   "outputs": [
    {
     "data": {
      "text/plain": [
       "0.5111111111111111"
      ]
     },
     "execution_count": 117,
     "metadata": {},
     "output_type": "execute_result"
    }
   ],
   "source": [
    "np.average(np.sum(all_predicted_values == all_actual_values,axis=1)/10)"
   ]
  },
  {
   "cell_type": "code",
   "execution_count": 119,
   "metadata": {},
   "outputs": [
    {
     "data": {
      "image/png": "[encoded data removed]",
      "text/plain": [
       "<Figure size 300x200 with 2 Axes>"
      ]
     },
     "metadata": {},
     "output_type": "display_data"
    }
   ],
   "source": [
    "fig, ax = plt.subplots(figsize=(3,2))\n",
    "disp = heatmap(confusion_matrix(all_predicted_values.flatten(), all_actual_values.flatten()),\n",
    "            annot = True)\n",
    "plt.title(\"Model Accuracy - Post Filtering\")\n",
    "plt.show()"
   ]
  }
 ],
 "metadata": {
  "kernelspec": {
   "display_name": "base",
   "language": "python",
   "name": "python3"
  },
  "language_info": {
   "codemirror_mode": {
    "name": "ipython",
    "version": 3
   },
   "file_extension": ".py",
   "mimetype": "text/x-python",
   "name": "python",
   "nbconvert_exporter": "python",
   "pygments_lexer": "ipython3",
   "version": "3.9.15"
  }
 },
 "nbformat": 4,
 "nbformat_minor": 2
}
