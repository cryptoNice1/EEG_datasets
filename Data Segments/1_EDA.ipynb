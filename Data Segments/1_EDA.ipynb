{
 "cells": [
  {
   "cell_type": "code",
   "execution_count": null,
   "metadata": {},
   "outputs": [],
   "source": [
    "import scipy\n",
    "import os\n",
    "import numpy as np, pandas as pd, matplotlib.pyplot as plt"
   ]
  },
  {
   "cell_type": "code",
   "execution_count": null,
   "metadata": {},
   "outputs": [],
   "source": [
    "#set the directory to the data file\n",
    "current_dir = os.getcwd()\n",
    "os.chdir('c:\\\\Users\\\\Melanie\\\\OneDrive - Rensselaer Polytechnic Institute\\\\Desktop\\\\School\\\\24_Spring\\\\MLE\\\\Project\\\\data')\n",
    "\n",
    "segment_names = \"FP1, FP2, FC5, FC6, FZ, T7, CZ, T8, P7, P3, PZ, P4, P8, O1, Oz, O2\".split(\", \")\n",
    "\n",
    "files = os.listdir()\n",
    "\n",
    "#getting the demographics both gets rid   \n",
    "demographics = pd.read_csv(files.pop(0),names=[\"Isman\",\"Age\",\"Fatigue\"])"
   ]
  },
  {
   "cell_type": "code",
   "execution_count": null,
   "metadata": {},
   "outputs": [],
   "source": [
    "def plot_signal(section_num, t, signal, class_bool, title_text, figtitle):\n",
    "    colors = [\"r\",\"g\"]\n",
    "    n = np.shape(signal)[0]\n",
    "    fig, axs = plt.subplots(nrows=n,figsize=(8,n*0.5))\n",
    "    for i in range(n):\n",
    "        #plotting the colors\n",
    "        for j in range(1,int(max(section_num))):\n",
    "            indices = np.where(section_num == j)\n",
    "            class_boolean = int(class_bool[indices[0]][0])\n",
    "            axs[i].plot(t[indices],signal[i][indices],colors[class_boolean%2])\n",
    "            axs[i].set_ylabel(segment_names[i])\n",
    "        axs[i].set_xticks([])\n",
    "        axs[i].set_yticks([])\n",
    "    fig.suptitle(title_text)\n",
    "    plt.tight_layout()\n",
    "    plt.savefig(figtitle,dpi=300)"
   ]
  },
  {
   "cell_type": "code",
   "execution_count": null,
   "metadata": {},
   "outputs": [],
   "source": [
    "def extract_segments(participant):\n",
    "    \"\"\"Gets just the segments where the subject is being tested\n",
    "    Input:  participant - the file name\n",
    "    Output: t           - \n",
    "            signal      -\n",
    "            section_num -\n",
    "            colors      - the graph colors \"\"\"\n",
    "\n",
    "    #get the signal\n",
    "    signal = scipy.io.loadmat(participant)[\"SIGNAL\"].T\n",
    "    n,m = np.shape(signal)\n",
    "    booleans = signal[-2:] #get the columns that show where is what\n",
    "\n",
    "    #getting the starting indices. np.nonzero returns two arrays, one for the values,\n",
    "    #and the other one for the locations. Using this I can already get the classes\n",
    "    # and the indices\n",
    "    indices = np.nonzero(booleans)\n",
    "    sort_indices = np.argsort(indices[1])\n",
    "\n",
    "    classes = indices[0][sort_indices]\n",
    "    indices = indices[1][sort_indices]\n",
    "\n",
    "    #now making two arrays, one for the section number and the other for the class boolean\n",
    "    class_bool = np.zeros(m) \n",
    "    section_num = np.zeros(m)\n",
    "\n",
    "    for (s_num,ind),cond in zip(enumerate(indices),classes):\n",
    "        class_bool[ind:ind+5121] = cond+1\n",
    "        section_num[ind:ind+5121] = s_num+1\n",
    "    \n",
    "    # choosing only the test condition times\n",
    "    test_indices = np.where(section_num != 0)[0]\n",
    "    trimmed_signal = signal.T[test_indices].T\n",
    "\n",
    "    #splitting up the data\n",
    "    t = np.array(list(range(len(test_indices))))*0.001953125\n",
    "    signal = trimmed_signal[1:-2]\n",
    "    section_num = section_num[test_indices]\n",
    "    class_bool = class_bool[test_indices]\n",
    "\n",
    "    #getting the participant number\n",
    "    p_number = int(files[0].split(\".\")[0].split(\"_\")[1])\n",
    "\n",
    "    return t, signal, section_num, class_bool, p_number"
   ]
  },
  {
   "cell_type": "code",
   "execution_count": null,
   "metadata": {},
   "outputs": [],
   "source": [
    "for i,f in enumerate(files):\n",
    "    t, signal, section_num, class_bool, p_num = extract_segments(f)\n",
    "\n",
    "    title_text = \"Participant {}: Processed Signal\".format(i+1)\n",
    "    plot_signal(section_num, t, signal, class_bool, title_text, \"subject_{}.png\".format(i+1))"
   ]
  }
 ],
 "metadata": {
  "language_info": {
   "name": "python"
  }
 },
 "nbformat": 4,
 "nbformat_minor": 2
}
